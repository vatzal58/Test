{
  "cells": [
    {
      "cell_type": "markdown",
      "metadata": {
        "id": "view-in-github",
        "colab_type": "text"
      },
      "source": [
        "<a href=\"https://colab.research.google.com/github/vatzal58/Test/blob/main/tiffin_calc.ipynb\" target=\"_parent\"><img src=\"https://colab.research.google.com/assets/colab-badge.svg\" alt=\"Open In Colab\"/></a>"
      ]
    },
    {
      "cell_type": "code",
      "source": [
        "import re\n",
        "from datetime import datetime, timedelta\n",
        "from tabulate import tabulate\n",
        "\n",
        "def filter_whatsapp_chat(filename, sender_name, month, keyword):\n",
        "    # Open the WhatsApp chat export file\n",
        "    with open(filename, 'r', encoding='utf-8') as file:\n",
        "        lines = file.readlines()\n",
        "\n",
        "    # Define a list to hold filtered messages\n",
        "    filtered_messages = []\n",
        "\n",
        "    # Loop through each line in the file\n",
        "    for line in lines:\n",
        "        # Regex pattern for date, 12-hour time with AM/PM, sender, and message\n",
        "        match = re.match(r'^(\\d{1,2}/\\d{1,2}/\\d{2,4}), (\\d{1,2}:\\d{2}\\s[APMapm]{2}) - (.*?): (.*)', line)\n",
        "\n",
        "        if match:\n",
        "            # Extract components from the matched pattern\n",
        "            date_str, time_str, sender, message = match.groups()\n",
        "\n",
        "            # Parse the date using dd/mm/yyyy format\n",
        "            try:\n",
        "                date_obj = datetime.strptime(date_str, \"%d/%m/%y\")\n",
        "            except ValueError:\n",
        "                continue  # Skip lines with unrecognized date formats\n",
        "\n",
        "            # Parse the time\n",
        "            time_obj = datetime.strptime(time_str, \"%I:%M %p\")  # 12-hour format with AM/PM\n",
        "\n",
        "            # Determine meal category based on time\n",
        "            # Dinner if between 12pm (noon) and 6pm, otherwise Lunch\n",
        "            meal_category = \"Dinner\" if 12 <= time_obj.hour < 18 else \"Lunch\"\n",
        "\n",
        "            # Adjust date for Lunch category if time is PM\n",
        "            adjusted_date = date_obj\n",
        "            if meal_category == \"Lunch\" and time_str.lower().endswith('pm'):\n",
        "                adjusted_date = date_obj + timedelta(days=1)\n",
        "\n",
        "            # Check if the message meets all filter conditions\n",
        "            if (sender == sender_name and\n",
        "                date_obj.strftime(\"%B\") == month and\n",
        "                re.search(r'\\b' + re.escape(keyword) + r'\\b', message, re.IGNORECASE)):\n",
        "                # Add to filtered messages list\n",
        "                filtered_messages.append([\n",
        "                    f\"{date_str} {time_str}\",\n",
        "                    sender,\n",
        "                    message,\n",
        "                    meal_category,\n",
        "                    adjusted_date.strftime(\"%d/%m/%y\")\n",
        "                ])\n",
        "\n",
        "    return filtered_messages\n",
        "\n",
        "# Usage example\n",
        "filename = 'chat.txt'\n",
        "filtered_messages = filter_whatsapp_chat(filename, sender_name=\"Vatsal\", month=\"November\", keyword=\"In\")\n",
        "\n",
        "# Display the filtered messages in a table format\n",
        "if filtered_messages:\n",
        "    print(tabulate(filtered_messages,\n",
        "                   headers=['DateTime', 'Sender', 'Message', 'Category', 'Adjusted Date'],\n",
        "                   tablefmt='grid'))\n",
        "else:\n",
        "    print(\"No messages found matching the criteria.\")"
      ],
      "metadata": {
        "colab": {
          "base_uri": "https://localhost:8080/"
        },
        "id": "pDIoEFYt9jNP",
        "outputId": "63efd171-7537-49fc-f5b3-95b6d84d9f33"
      },
      "execution_count": 7,
      "outputs": [
        {
          "output_type": "stream",
          "name": "stdout",
          "text": [
            "+-------------------+----------+---------------------------------------------------------------------------------------------------------+------------+-----------------+\n",
            "| DateTime          | Sender   | Message                                                                                                 | Category   | Adjusted Date   |\n",
            "+===================+==========+=========================================================================================================+============+=================+\n",
            "| 04/11/24 7:18 pm  | Vatsal   | filtered_messages = filter_whatsapp_chat(filename, sender_name=\"Vatsal\", month=\"October\", keyword=\"In\") | Lunch      | 05/11/24        |\n",
            "+-------------------+----------+---------------------------------------------------------------------------------------------------------+------------+-----------------+\n",
            "| 13/11/24 4:55 pm  | Vatsal   | In                                                                                                      | Dinner     | 13/11/24        |\n",
            "+-------------------+----------+---------------------------------------------------------------------------------------------------------+------------+-----------------+\n",
            "| 13/11/24 9:37 pm  | Vatsal   | Please don't create bugs in our program                                                                 | Lunch      | 14/11/24        |\n",
            "+-------------------+----------+---------------------------------------------------------------------------------------------------------+------------+-----------------+\n",
            "| 15/11/24 7:39 pm  | Vatsal   | In                                                                                                      | Lunch      | 16/11/24        |\n",
            "+-------------------+----------+---------------------------------------------------------------------------------------------------------+------------+-----------------+\n",
            "| 16/11/24 10:19 pm | Vatsal   | In                                                                                                      | Lunch      | 17/11/24        |\n",
            "+-------------------+----------+---------------------------------------------------------------------------------------------------------+------------+-----------------+\n",
            "| 18/11/24 1:00 pm  | Vatsal   | In                                                                                                      | Dinner     | 18/11/24        |\n",
            "+-------------------+----------+---------------------------------------------------------------------------------------------------------+------------+-----------------+\n",
            "| 19/11/24 12:12 pm | Vatsal   | In                                                                                                      | Dinner     | 19/11/24        |\n",
            "+-------------------+----------+---------------------------------------------------------------------------------------------------------+------------+-----------------+\n",
            "| 22/11/24 2:51 pm  | Vatsal   | In                                                                                                      | Dinner     | 22/11/24        |\n",
            "+-------------------+----------+---------------------------------------------------------------------------------------------------------+------------+-----------------+\n",
            "| 22/11/24 10:05 pm | Vatsal   | In                                                                                                      | Lunch      | 23/11/24        |\n",
            "+-------------------+----------+---------------------------------------------------------------------------------------------------------+------------+-----------------+\n",
            "| 27/11/24 2:34 pm  | Vatsal   | In                                                                                                      | Dinner     | 27/11/24        |\n",
            "+-------------------+----------+---------------------------------------------------------------------------------------------------------+------------+-----------------+\n",
            "| 28/11/24 10:15 pm | Vatsal   | In                                                                                                      | Lunch      | 29/11/24        |\n",
            "+-------------------+----------+---------------------------------------------------------------------------------------------------------+------------+-----------------+\n",
            "| 29/11/24 1:43 pm  | Vatsal   | In                                                                                                      | Dinner     | 29/11/24        |\n",
            "+-------------------+----------+---------------------------------------------------------------------------------------------------------+------------+-----------------+\n"
          ]
        }
      ]
    }
  ],
  "metadata": {
    "colab": {
      "name": "Welcome To Colab",
      "provenance": [],
      "include_colab_link": true
    },
    "kernelspec": {
      "display_name": "Python 3",
      "name": "python3"
    }
  },
  "nbformat": 4,
  "nbformat_minor": 0
}