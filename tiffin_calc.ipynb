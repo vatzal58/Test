{
  "cells": [
    {
      "cell_type": "markdown",
      "metadata": {
        "id": "view-in-github",
        "colab_type": "text"
      },
      "source": [
        "<a href=\"https://colab.research.google.com/github/vatzal58/Test/blob/main/tiffin_calc.ipynb\" target=\"_parent\"><img src=\"https://colab.research.google.com/assets/colab-badge.svg\" alt=\"Open In Colab\"/></a>"
      ]
    },
    {
      "cell_type": "code",
      "source": [
        "import re\n",
        "from datetime import datetime, timedelta\n",
        "from tabulate import tabulate\n",
        "\n",
        "def filter_whatsapp_chat(filename, sender_name, month, keyword):\n",
        "    # Open the WhatsApp chat export file\n",
        "    with open(filename, 'r', encoding='utf-8') as file:\n",
        "        lines = file.readlines()\n",
        "\n",
        "    # Define a list to hold filtered messages\n",
        "    filtered_messages = []\n",
        "\n",
        "    # Loop through each line in the file\n",
        "    for line in lines:\n",
        "        # Regex pattern for date, 12-hour time with AM/PM, sender, and message\n",
        "        match = re.match(r'^(\\d{1,2}/\\d{1,2}/\\d{2,4}), (\\d{1,2}:\\d{2}\\s[APMapm]{2}) - (.*?): (.*)', line)\n",
        "\n",
        "        if match:\n",
        "            # Extract components from the matched pattern\n",
        "            date_str, time_str, sender, message = match.groups()\n",
        "\n",
        "            # Parse the date using dd/mm/yyyy format\n",
        "            try:\n",
        "                date_obj = datetime.strptime(date_str, \"%d/%m/%y\")\n",
        "            except ValueError:\n",
        "                continue  # Skip lines with unrecognized date formats\n",
        "\n",
        "            # Parse the time\n",
        "            time_obj = datetime.strptime(time_str, \"%I:%M %p\")  # 12-hour format with AM/PM\n",
        "\n",
        "            # Determine meal category based on time\n",
        "            # Dinner if between 11pm (noon) and 6pm, otherwise Lunch\n",
        "            meal_category = \"Dinner\" if 11 <= time_obj.hour < 18 else \"Lunch\"\n",
        "\n",
        "            # Adjust date for Lunch category if time is PM\n",
        "            adjusted_date = date_obj\n",
        "            if meal_category == \"Lunch\" and time_str.lower().endswith('pm'):\n",
        "                adjusted_date = date_obj + timedelta(days=1)\n",
        "\n",
        "            # Check if the message meets all filter conditions\n",
        "            if (sender == sender_name and\n",
        "                date_obj.strftime(\"%B\") == month and\n",
        "                re.search(r'\\b' + re.escape(keyword) + r'\\b', message, re.IGNORECASE)):\n",
        "                # Add to filtered messages list\n",
        "                filtered_messages.append([\n",
        "                    f\"{date_str} {time_str}\",\n",
        "                    sender,\n",
        "                    message,\n",
        "                    meal_category,\n",
        "                    adjusted_date.strftime(\"%d/%m/%y\")\n",
        "                ])\n",
        "\n",
        "    return filtered_messages\n",
        "\n",
        "# Usage example\n",
        "filename = 'chat.txt'\n",
        "filtered_messages = filter_whatsapp_chat(filename, sender_name=\"Vatsal\", month=\"January\", keyword=\"In\")\n",
        "\n",
        "# Display the filtered messages in a table format\n",
        "if filtered_messages:\n",
        "    print(tabulate(filtered_messages,\n",
        "                   headers=['DateTime', 'Sender', 'Message', 'Category', 'Adjusted Date'],\n",
        "                   tablefmt='grid'))\n",
        "else:\n",
        "    print(\"No messages found matching the criteria.\")"
      ],
      "metadata": {
        "colab": {
          "base_uri": "https://localhost:8080/"
        },
        "id": "pDIoEFYt9jNP",
        "outputId": "de9b7201-3279-400f-af53-903d072365e3"
      },
      "execution_count": 3,
      "outputs": [
        {
          "output_type": "stream",
          "name": "stdout",
          "text": [
            "+-------------------+----------+-----------+------------+-----------------+\n",
            "| DateTime          | Sender   | Message   | Category   | Adjusted Date   |\n",
            "+===================+==========+===========+============+=================+\n",
            "| 08/01/25 1:46 pm  | Vatsal   | In        | Dinner     | 08/01/25        |\n",
            "+-------------------+----------+-----------+------------+-----------------+\n",
            "| 09/01/25 1:11 pm  | Vatsal   | In        | Dinner     | 09/01/25        |\n",
            "+-------------------+----------+-----------+------------+-----------------+\n",
            "| 09/01/25 9:18 pm  | Vatsal   | In        | Lunch      | 10/01/25        |\n",
            "+-------------------+----------+-----------+------------+-----------------+\n",
            "| 17/01/25 8:42 pm  | Vatsal   | In        | Lunch      | 18/01/25        |\n",
            "+-------------------+----------+-----------+------------+-----------------+\n",
            "| 18/01/25 8:02 pm  | Vatsal   | In        | Lunch      | 19/01/25        |\n",
            "+-------------------+----------+-----------+------------+-----------------+\n",
            "| 23/01/25 11:01 am | Vatsal   | In        | Dinner     | 23/01/25        |\n",
            "+-------------------+----------+-----------+------------+-----------------+\n",
            "| 23/01/25 9:20 pm  | Vatsal   | In        | Lunch      | 24/01/25        |\n",
            "+-------------------+----------+-----------+------------+-----------------+\n",
            "| 24/01/25 11:13 pm | Vatsal   | In        | Lunch      | 25/01/25        |\n",
            "+-------------------+----------+-----------+------------+-----------------+\n",
            "| 29/01/25 2:12 pm  | Vatsal   | In        | Dinner     | 29/01/25        |\n",
            "+-------------------+----------+-----------+------------+-----------------+\n",
            "| 30/01/25 2:09 pm  | Vatsal   | In        | Dinner     | 30/01/25        |\n",
            "+-------------------+----------+-----------+------------+-----------------+\n",
            "| 30/01/25 9:25 pm  | Vatsal   | In        | Lunch      | 31/01/25        |\n",
            "+-------------------+----------+-----------+------------+-----------------+\n"
          ]
        }
      ]
    }
  ],
  "metadata": {
    "colab": {
      "name": "Welcome To Colab",
      "provenance": [],
      "include_colab_link": true
    },
    "kernelspec": {
      "display_name": "Python 3",
      "name": "python3"
    }
  },
  "nbformat": 4,
  "nbformat_minor": 0
}