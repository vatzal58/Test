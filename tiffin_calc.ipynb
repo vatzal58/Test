{
  "cells": [
    {
      "cell_type": "markdown",
      "metadata": {
        "id": "view-in-github",
        "colab_type": "text"
      },
      "source": [
        "<a href=\"https://colab.research.google.com/github/vatzal58/Test/blob/main/tiffin_calc.ipynb\" target=\"_parent\"><img src=\"https://colab.research.google.com/assets/colab-badge.svg\" alt=\"Open In Colab\"/></a>"
      ]
    },
    {
      "cell_type": "code",
      "source": [
        "import re\n",
        "from datetime import datetime\n",
        "\n",
        "def filter_whatsapp_chat(filename, sender_name, month, keyword):\n",
        "    # Open the WhatsApp chat export file\n",
        "    with open(filename, 'r', encoding='utf-8') as file:\n",
        "        lines = file.readlines()\n",
        "\n",
        "    # Define a list to hold filtered messages\n",
        "    filtered_messages = []\n",
        "\n",
        "    # Loop through each line in the file\n",
        "    for line in lines:\n",
        "        # Regex pattern for date, 12-hour time with AM/PM, sender, and message\n",
        "        match = re.match(r'^(\\d{1,2}/\\d{1,2}/\\d{2,4}), (\\d{1,2}:\\d{2}\\s[APMapm]{2}) - (.*?): (.*)', line)\n",
        "\n",
        "        if match:\n",
        "            # Extract components from the matched pattern\n",
        "            date_str, time_str, sender, message = match.groups()\n",
        "\n",
        "            # Parse the date using dd/mm/yyyy format\n",
        "            try:\n",
        "                date_obj = datetime.strptime(date_str, \"%d/%m/%y\")\n",
        "            except ValueError:\n",
        "                continue  # Skip lines with unrecognized date formats\n",
        "\n",
        "            # Parse the time\n",
        "            time_obj = datetime.strptime(time_str, \"%I:%M %p\")  # 12-hour format with AM/PM\n",
        "\n",
        "            # Check if the message meets all filter conditions\n",
        "            if (sender == sender_name and\n",
        "                date_obj.strftime(\"%B\") == month and\n",
        "                re.search(r'\\b' + re.escape(keyword) + r'\\b', message, re.IGNORECASE)):\n",
        "                # Add to filtered messages list\n",
        "                filtered_messages.append(f\"{date_str} {time_str} - {sender}: {message}\")\n",
        "\n",
        "    return filtered_messages\n",
        "\n",
        "# Usage example\n",
        "filename = 'whatsapp_chat.txt'\n",
        "filtered_messages = filter_whatsapp_chat(filename, sender_name=\"Vatsal\", month=\"October\", keyword=\"In\")\n",
        "\n",
        "# Display the filtered messages\n",
        "for message in filtered_messages:\n",
        "    print(message)\n"
      ],
      "metadata": {
        "colab": {
          "base_uri": "https://localhost:8080/"
        },
        "id": "pDIoEFYt9jNP",
        "outputId": "d601620d-76e0-4e8e-8cae-db3a53a0439c"
      },
      "execution_count": 14,
      "outputs": [
        {
          "output_type": "stream",
          "name": "stdout",
          "text": [
            "01/10/24 10:42 pm - Vatsal: @919428797389 as you being senior most vadil I vouch for your presidency SPOC for this time in collecting money\n",
            "12/10/24 9:30 pm - Vatsal: In\n",
            "17/10/24 10:15 pm - Vatsal: In\n",
            "18/10/24 7:57 pm - Vatsal: In\n",
            "19/10/24 9:27 pm - Vatsal: In\n",
            "22/10/24 2:43 pm - Vatsal: In\n",
            "24/10/24 4:26 pm - Vatsal: In\n"
          ]
        }
      ]
    }
  ],
  "metadata": {
    "colab": {
      "name": "Welcome To Colab",
      "provenance": [],
      "include_colab_link": true
    },
    "kernelspec": {
      "display_name": "Python 3",
      "name": "python3"
    }
  },
  "nbformat": 4,
  "nbformat_minor": 0
}