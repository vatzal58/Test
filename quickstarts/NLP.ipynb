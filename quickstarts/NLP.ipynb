{
  "cells": [
    {
      "cell_type": "markdown",
      "metadata": {
        "id": "Tce3stUlHN0L"
      },
      "source": [
        "##### Copyright 2024 Google LLC."
      ]
    },
    {
      "cell_type": "code",
      "source": [
        "!pip install flask spacy"
      ],
      "metadata": {
        "id": "41CwH8CWeoxo",
        "outputId": "2f2a8ef5-4ebc-421f-c390-117d1a9a782d",
        "colab": {
          "base_uri": "https://localhost:8080/"
        }
      },
      "execution_count": 1,
      "outputs": [
        {
          "output_type": "stream",
          "name": "stdout",
          "text": [
            "Requirement already satisfied: flask in /usr/local/lib/python3.11/dist-packages (3.1.0)\n",
            "Requirement already satisfied: spacy in /usr/local/lib/python3.11/dist-packages (3.7.5)\n",
            "Requirement already satisfied: Werkzeug>=3.1 in /usr/local/lib/python3.11/dist-packages (from flask) (3.1.3)\n",
            "Requirement already satisfied: Jinja2>=3.1.2 in /usr/local/lib/python3.11/dist-packages (from flask) (3.1.5)\n",
            "Requirement already satisfied: itsdangerous>=2.2 in /usr/local/lib/python3.11/dist-packages (from flask) (2.2.0)\n",
            "Requirement already satisfied: click>=8.1.3 in /usr/local/lib/python3.11/dist-packages (from flask) (8.1.8)\n",
            "Requirement already satisfied: blinker>=1.9 in /usr/local/lib/python3.11/dist-packages (from flask) (1.9.0)\n",
            "Requirement already satisfied: spacy-legacy<3.1.0,>=3.0.11 in /usr/local/lib/python3.11/dist-packages (from spacy) (3.0.12)\n",
            "Requirement already satisfied: spacy-loggers<2.0.0,>=1.0.0 in /usr/local/lib/python3.11/dist-packages (from spacy) (1.0.5)\n",
            "Requirement already satisfied: murmurhash<1.1.0,>=0.28.0 in /usr/local/lib/python3.11/dist-packages (from spacy) (1.0.12)\n",
            "Requirement already satisfied: cymem<2.1.0,>=2.0.2 in /usr/local/lib/python3.11/dist-packages (from spacy) (2.0.11)\n",
            "Requirement already satisfied: preshed<3.1.0,>=3.0.2 in /usr/local/lib/python3.11/dist-packages (from spacy) (3.0.9)\n",
            "Requirement already satisfied: thinc<8.3.0,>=8.2.2 in /usr/local/lib/python3.11/dist-packages (from spacy) (8.2.5)\n",
            "Requirement already satisfied: wasabi<1.2.0,>=0.9.1 in /usr/local/lib/python3.11/dist-packages (from spacy) (1.1.3)\n",
            "Requirement already satisfied: srsly<3.0.0,>=2.4.3 in /usr/local/lib/python3.11/dist-packages (from spacy) (2.5.1)\n",
            "Requirement already satisfied: catalogue<2.1.0,>=2.0.6 in /usr/local/lib/python3.11/dist-packages (from spacy) (2.0.10)\n",
            "Requirement already satisfied: weasel<0.5.0,>=0.1.0 in /usr/local/lib/python3.11/dist-packages (from spacy) (0.4.1)\n",
            "Requirement already satisfied: typer<1.0.0,>=0.3.0 in /usr/local/lib/python3.11/dist-packages (from spacy) (0.15.1)\n",
            "Requirement already satisfied: tqdm<5.0.0,>=4.38.0 in /usr/local/lib/python3.11/dist-packages (from spacy) (4.67.1)\n",
            "Requirement already satisfied: requests<3.0.0,>=2.13.0 in /usr/local/lib/python3.11/dist-packages (from spacy) (2.32.3)\n",
            "Requirement already satisfied: pydantic!=1.8,!=1.8.1,<3.0.0,>=1.7.4 in /usr/local/lib/python3.11/dist-packages (from spacy) (2.10.6)\n",
            "Requirement already satisfied: setuptools in /usr/local/lib/python3.11/dist-packages (from spacy) (75.1.0)\n",
            "Requirement already satisfied: packaging>=20.0 in /usr/local/lib/python3.11/dist-packages (from spacy) (24.2)\n",
            "Requirement already satisfied: langcodes<4.0.0,>=3.2.0 in /usr/local/lib/python3.11/dist-packages (from spacy) (3.5.0)\n",
            "Requirement already satisfied: numpy>=1.19.0 in /usr/local/lib/python3.11/dist-packages (from spacy) (1.26.4)\n",
            "Requirement already satisfied: MarkupSafe>=2.0 in /usr/local/lib/python3.11/dist-packages (from Jinja2>=3.1.2->flask) (3.0.2)\n",
            "Requirement already satisfied: language-data>=1.2 in /usr/local/lib/python3.11/dist-packages (from langcodes<4.0.0,>=3.2.0->spacy) (1.3.0)\n",
            "Requirement already satisfied: annotated-types>=0.6.0 in /usr/local/lib/python3.11/dist-packages (from pydantic!=1.8,!=1.8.1,<3.0.0,>=1.7.4->spacy) (0.7.0)\n",
            "Requirement already satisfied: pydantic-core==2.27.2 in /usr/local/lib/python3.11/dist-packages (from pydantic!=1.8,!=1.8.1,<3.0.0,>=1.7.4->spacy) (2.27.2)\n",
            "Requirement already satisfied: typing-extensions>=4.12.2 in /usr/local/lib/python3.11/dist-packages (from pydantic!=1.8,!=1.8.1,<3.0.0,>=1.7.4->spacy) (4.12.2)\n",
            "Requirement already satisfied: charset-normalizer<4,>=2 in /usr/local/lib/python3.11/dist-packages (from requests<3.0.0,>=2.13.0->spacy) (3.4.1)\n",
            "Requirement already satisfied: idna<4,>=2.5 in /usr/local/lib/python3.11/dist-packages (from requests<3.0.0,>=2.13.0->spacy) (3.10)\n",
            "Requirement already satisfied: urllib3<3,>=1.21.1 in /usr/local/lib/python3.11/dist-packages (from requests<3.0.0,>=2.13.0->spacy) (2.3.0)\n",
            "Requirement already satisfied: certifi>=2017.4.17 in /usr/local/lib/python3.11/dist-packages (from requests<3.0.0,>=2.13.0->spacy) (2025.1.31)\n",
            "Requirement already satisfied: blis<0.8.0,>=0.7.8 in /usr/local/lib/python3.11/dist-packages (from thinc<8.3.0,>=8.2.2->spacy) (0.7.11)\n",
            "Requirement already satisfied: confection<1.0.0,>=0.0.1 in /usr/local/lib/python3.11/dist-packages (from thinc<8.3.0,>=8.2.2->spacy) (0.1.5)\n",
            "Requirement already satisfied: shellingham>=1.3.0 in /usr/local/lib/python3.11/dist-packages (from typer<1.0.0,>=0.3.0->spacy) (1.5.4)\n",
            "Requirement already satisfied: rich>=10.11.0 in /usr/local/lib/python3.11/dist-packages (from typer<1.0.0,>=0.3.0->spacy) (13.9.4)\n",
            "Requirement already satisfied: cloudpathlib<1.0.0,>=0.7.0 in /usr/local/lib/python3.11/dist-packages (from weasel<0.5.0,>=0.1.0->spacy) (0.20.0)\n",
            "Requirement already satisfied: smart-open<8.0.0,>=5.2.1 in /usr/local/lib/python3.11/dist-packages (from weasel<0.5.0,>=0.1.0->spacy) (7.1.0)\n",
            "Requirement already satisfied: marisa-trie>=1.1.0 in /usr/local/lib/python3.11/dist-packages (from language-data>=1.2->langcodes<4.0.0,>=3.2.0->spacy) (1.2.1)\n",
            "Requirement already satisfied: markdown-it-py>=2.2.0 in /usr/local/lib/python3.11/dist-packages (from rich>=10.11.0->typer<1.0.0,>=0.3.0->spacy) (3.0.0)\n",
            "Requirement already satisfied: pygments<3.0.0,>=2.13.0 in /usr/local/lib/python3.11/dist-packages (from rich>=10.11.0->typer<1.0.0,>=0.3.0->spacy) (2.18.0)\n",
            "Requirement already satisfied: wrapt in /usr/local/lib/python3.11/dist-packages (from smart-open<8.0.0,>=5.2.1->weasel<0.5.0,>=0.1.0->spacy) (1.17.2)\n",
            "Requirement already satisfied: mdurl~=0.1 in /usr/local/lib/python3.11/dist-packages (from markdown-it-py>=2.2.0->rich>=10.11.0->typer<1.0.0,>=0.3.0->spacy) (0.1.2)\n"
          ]
        }
      ]
    },
    {
      "cell_type": "code",
      "source": [
        "!python -m spacy download en_core_web_sm"
      ],
      "metadata": {
        "id": "dScN6BpHewU9",
        "outputId": "99f635b5-0955-4b88-ab5a-dba9ba8daee0",
        "colab": {
          "base_uri": "https://localhost:8080/"
        }
      },
      "execution_count": 2,
      "outputs": [
        {
          "output_type": "stream",
          "name": "stdout",
          "text": [
            "Collecting en-core-web-sm==3.7.1\n",
            "  Downloading https://github.com/explosion/spacy-models/releases/download/en_core_web_sm-3.7.1/en_core_web_sm-3.7.1-py3-none-any.whl (12.8 MB)\n",
            "\u001b[2K     \u001b[90m━━━━━━━━━━━━━━━━━━━━━━━━━━━━━━━━━━━━━━━━\u001b[0m \u001b[32m12.8/12.8 MB\u001b[0m \u001b[31m38.4 MB/s\u001b[0m eta \u001b[36m0:00:00\u001b[0m\n",
            "\u001b[?25hRequirement already satisfied: spacy<3.8.0,>=3.7.2 in /usr/local/lib/python3.11/dist-packages (from en-core-web-sm==3.7.1) (3.7.5)\n",
            "Requirement already satisfied: spacy-legacy<3.1.0,>=3.0.11 in /usr/local/lib/python3.11/dist-packages (from spacy<3.8.0,>=3.7.2->en-core-web-sm==3.7.1) (3.0.12)\n",
            "Requirement already satisfied: spacy-loggers<2.0.0,>=1.0.0 in /usr/local/lib/python3.11/dist-packages (from spacy<3.8.0,>=3.7.2->en-core-web-sm==3.7.1) (1.0.5)\n",
            "Requirement already satisfied: murmurhash<1.1.0,>=0.28.0 in /usr/local/lib/python3.11/dist-packages (from spacy<3.8.0,>=3.7.2->en-core-web-sm==3.7.1) (1.0.12)\n",
            "Requirement already satisfied: cymem<2.1.0,>=2.0.2 in /usr/local/lib/python3.11/dist-packages (from spacy<3.8.0,>=3.7.2->en-core-web-sm==3.7.1) (2.0.11)\n",
            "Requirement already satisfied: preshed<3.1.0,>=3.0.2 in /usr/local/lib/python3.11/dist-packages (from spacy<3.8.0,>=3.7.2->en-core-web-sm==3.7.1) (3.0.9)\n",
            "Requirement already satisfied: thinc<8.3.0,>=8.2.2 in /usr/local/lib/python3.11/dist-packages (from spacy<3.8.0,>=3.7.2->en-core-web-sm==3.7.1) (8.2.5)\n",
            "Requirement already satisfied: wasabi<1.2.0,>=0.9.1 in /usr/local/lib/python3.11/dist-packages (from spacy<3.8.0,>=3.7.2->en-core-web-sm==3.7.1) (1.1.3)\n",
            "Requirement already satisfied: srsly<3.0.0,>=2.4.3 in /usr/local/lib/python3.11/dist-packages (from spacy<3.8.0,>=3.7.2->en-core-web-sm==3.7.1) (2.5.1)\n",
            "Requirement already satisfied: catalogue<2.1.0,>=2.0.6 in /usr/local/lib/python3.11/dist-packages (from spacy<3.8.0,>=3.7.2->en-core-web-sm==3.7.1) (2.0.10)\n",
            "Requirement already satisfied: weasel<0.5.0,>=0.1.0 in /usr/local/lib/python3.11/dist-packages (from spacy<3.8.0,>=3.7.2->en-core-web-sm==3.7.1) (0.4.1)\n",
            "Requirement already satisfied: typer<1.0.0,>=0.3.0 in /usr/local/lib/python3.11/dist-packages (from spacy<3.8.0,>=3.7.2->en-core-web-sm==3.7.1) (0.15.1)\n",
            "Requirement already satisfied: tqdm<5.0.0,>=4.38.0 in /usr/local/lib/python3.11/dist-packages (from spacy<3.8.0,>=3.7.2->en-core-web-sm==3.7.1) (4.67.1)\n",
            "Requirement already satisfied: requests<3.0.0,>=2.13.0 in /usr/local/lib/python3.11/dist-packages (from spacy<3.8.0,>=3.7.2->en-core-web-sm==3.7.1) (2.32.3)\n",
            "Requirement already satisfied: pydantic!=1.8,!=1.8.1,<3.0.0,>=1.7.4 in /usr/local/lib/python3.11/dist-packages (from spacy<3.8.0,>=3.7.2->en-core-web-sm==3.7.1) (2.10.6)\n",
            "Requirement already satisfied: jinja2 in /usr/local/lib/python3.11/dist-packages (from spacy<3.8.0,>=3.7.2->en-core-web-sm==3.7.1) (3.1.5)\n",
            "Requirement already satisfied: setuptools in /usr/local/lib/python3.11/dist-packages (from spacy<3.8.0,>=3.7.2->en-core-web-sm==3.7.1) (75.1.0)\n",
            "Requirement already satisfied: packaging>=20.0 in /usr/local/lib/python3.11/dist-packages (from spacy<3.8.0,>=3.7.2->en-core-web-sm==3.7.1) (24.2)\n",
            "Requirement already satisfied: langcodes<4.0.0,>=3.2.0 in /usr/local/lib/python3.11/dist-packages (from spacy<3.8.0,>=3.7.2->en-core-web-sm==3.7.1) (3.5.0)\n",
            "Requirement already satisfied: numpy>=1.19.0 in /usr/local/lib/python3.11/dist-packages (from spacy<3.8.0,>=3.7.2->en-core-web-sm==3.7.1) (1.26.4)\n",
            "Requirement already satisfied: language-data>=1.2 in /usr/local/lib/python3.11/dist-packages (from langcodes<4.0.0,>=3.2.0->spacy<3.8.0,>=3.7.2->en-core-web-sm==3.7.1) (1.3.0)\n",
            "Requirement already satisfied: annotated-types>=0.6.0 in /usr/local/lib/python3.11/dist-packages (from pydantic!=1.8,!=1.8.1,<3.0.0,>=1.7.4->spacy<3.8.0,>=3.7.2->en-core-web-sm==3.7.1) (0.7.0)\n",
            "Requirement already satisfied: pydantic-core==2.27.2 in /usr/local/lib/python3.11/dist-packages (from pydantic!=1.8,!=1.8.1,<3.0.0,>=1.7.4->spacy<3.8.0,>=3.7.2->en-core-web-sm==3.7.1) (2.27.2)\n",
            "Requirement already satisfied: typing-extensions>=4.12.2 in /usr/local/lib/python3.11/dist-packages (from pydantic!=1.8,!=1.8.1,<3.0.0,>=1.7.4->spacy<3.8.0,>=3.7.2->en-core-web-sm==3.7.1) (4.12.2)\n",
            "Requirement already satisfied: charset-normalizer<4,>=2 in /usr/local/lib/python3.11/dist-packages (from requests<3.0.0,>=2.13.0->spacy<3.8.0,>=3.7.2->en-core-web-sm==3.7.1) (3.4.1)\n",
            "Requirement already satisfied: idna<4,>=2.5 in /usr/local/lib/python3.11/dist-packages (from requests<3.0.0,>=2.13.0->spacy<3.8.0,>=3.7.2->en-core-web-sm==3.7.1) (3.10)\n",
            "Requirement already satisfied: urllib3<3,>=1.21.1 in /usr/local/lib/python3.11/dist-packages (from requests<3.0.0,>=2.13.0->spacy<3.8.0,>=3.7.2->en-core-web-sm==3.7.1) (2.3.0)\n",
            "Requirement already satisfied: certifi>=2017.4.17 in /usr/local/lib/python3.11/dist-packages (from requests<3.0.0,>=2.13.0->spacy<3.8.0,>=3.7.2->en-core-web-sm==3.7.1) (2025.1.31)\n",
            "Requirement already satisfied: blis<0.8.0,>=0.7.8 in /usr/local/lib/python3.11/dist-packages (from thinc<8.3.0,>=8.2.2->spacy<3.8.0,>=3.7.2->en-core-web-sm==3.7.1) (0.7.11)\n",
            "Requirement already satisfied: confection<1.0.0,>=0.0.1 in /usr/local/lib/python3.11/dist-packages (from thinc<8.3.0,>=8.2.2->spacy<3.8.0,>=3.7.2->en-core-web-sm==3.7.1) (0.1.5)\n",
            "Requirement already satisfied: click>=8.0.0 in /usr/local/lib/python3.11/dist-packages (from typer<1.0.0,>=0.3.0->spacy<3.8.0,>=3.7.2->en-core-web-sm==3.7.1) (8.1.8)\n",
            "Requirement already satisfied: shellingham>=1.3.0 in /usr/local/lib/python3.11/dist-packages (from typer<1.0.0,>=0.3.0->spacy<3.8.0,>=3.7.2->en-core-web-sm==3.7.1) (1.5.4)\n",
            "Requirement already satisfied: rich>=10.11.0 in /usr/local/lib/python3.11/dist-packages (from typer<1.0.0,>=0.3.0->spacy<3.8.0,>=3.7.2->en-core-web-sm==3.7.1) (13.9.4)\n",
            "Requirement already satisfied: cloudpathlib<1.0.0,>=0.7.0 in /usr/local/lib/python3.11/dist-packages (from weasel<0.5.0,>=0.1.0->spacy<3.8.0,>=3.7.2->en-core-web-sm==3.7.1) (0.20.0)\n",
            "Requirement already satisfied: smart-open<8.0.0,>=5.2.1 in /usr/local/lib/python3.11/dist-packages (from weasel<0.5.0,>=0.1.0->spacy<3.8.0,>=3.7.2->en-core-web-sm==3.7.1) (7.1.0)\n",
            "Requirement already satisfied: MarkupSafe>=2.0 in /usr/local/lib/python3.11/dist-packages (from jinja2->spacy<3.8.0,>=3.7.2->en-core-web-sm==3.7.1) (3.0.2)\n",
            "Requirement already satisfied: marisa-trie>=1.1.0 in /usr/local/lib/python3.11/dist-packages (from language-data>=1.2->langcodes<4.0.0,>=3.2.0->spacy<3.8.0,>=3.7.2->en-core-web-sm==3.7.1) (1.2.1)\n",
            "Requirement already satisfied: markdown-it-py>=2.2.0 in /usr/local/lib/python3.11/dist-packages (from rich>=10.11.0->typer<1.0.0,>=0.3.0->spacy<3.8.0,>=3.7.2->en-core-web-sm==3.7.1) (3.0.0)\n",
            "Requirement already satisfied: pygments<3.0.0,>=2.13.0 in /usr/local/lib/python3.11/dist-packages (from rich>=10.11.0->typer<1.0.0,>=0.3.0->spacy<3.8.0,>=3.7.2->en-core-web-sm==3.7.1) (2.18.0)\n",
            "Requirement already satisfied: wrapt in /usr/local/lib/python3.11/dist-packages (from smart-open<8.0.0,>=5.2.1->weasel<0.5.0,>=0.1.0->spacy<3.8.0,>=3.7.2->en-core-web-sm==3.7.1) (1.17.2)\n",
            "Requirement already satisfied: mdurl~=0.1 in /usr/local/lib/python3.11/dist-packages (from markdown-it-py>=2.2.0->rich>=10.11.0->typer<1.0.0,>=0.3.0->spacy<3.8.0,>=3.7.2->en-core-web-sm==3.7.1) (0.1.2)\n",
            "\u001b[38;5;2m✔ Download and installation successful\u001b[0m\n",
            "You can now load the package via spacy.load('en_core_web_sm')\n",
            "\u001b[38;5;3m⚠ Restart to reload dependencies\u001b[0m\n",
            "If you are in a Jupyter or Colab notebook, you may need to restart Python in\n",
            "order to load all the package's dependencies. You can do this by selecting the\n",
            "'Restart kernel' or 'Restart runtime' option.\n"
          ]
        }
      ]
    },
    {
      "cell_type": "code",
      "source": [
        "!pip install flask pyngrok"
      ],
      "metadata": {
        "id": "pX363AiqfN8J",
        "outputId": "3fdaba72-2a98-4112-97bb-67c5bb4540d1",
        "colab": {
          "base_uri": "https://localhost:8080/"
        }
      },
      "execution_count": 4,
      "outputs": [
        {
          "output_type": "stream",
          "name": "stdout",
          "text": [
            "Requirement already satisfied: flask in /usr/local/lib/python3.11/dist-packages (3.1.0)\n",
            "Collecting pyngrok\n",
            "  Downloading pyngrok-7.2.3-py3-none-any.whl.metadata (8.7 kB)\n",
            "Requirement already satisfied: Werkzeug>=3.1 in /usr/local/lib/python3.11/dist-packages (from flask) (3.1.3)\n",
            "Requirement already satisfied: Jinja2>=3.1.2 in /usr/local/lib/python3.11/dist-packages (from flask) (3.1.5)\n",
            "Requirement already satisfied: itsdangerous>=2.2 in /usr/local/lib/python3.11/dist-packages (from flask) (2.2.0)\n",
            "Requirement already satisfied: click>=8.1.3 in /usr/local/lib/python3.11/dist-packages (from flask) (8.1.8)\n",
            "Requirement already satisfied: blinker>=1.9 in /usr/local/lib/python3.11/dist-packages (from flask) (1.9.0)\n",
            "Requirement already satisfied: PyYAML>=5.1 in /usr/local/lib/python3.11/dist-packages (from pyngrok) (6.0.2)\n",
            "Requirement already satisfied: MarkupSafe>=2.0 in /usr/local/lib/python3.11/dist-packages (from Jinja2>=3.1.2->flask) (3.0.2)\n",
            "Downloading pyngrok-7.2.3-py3-none-any.whl (23 kB)\n",
            "Installing collected packages: pyngrok\n",
            "Successfully installed pyngrok-7.2.3\n"
          ]
        }
      ]
    },
    {
      "cell_type": "code",
      "source": [
        "!ngrok authtoken 2fhIpIGUmKhPG1jHGdjHzCnyou0_2JXzxGdmKFQunq6eM8syr"
      ],
      "metadata": {
        "id": "Aqz0bt1tf0HJ",
        "outputId": "4501621b-66c8-47e4-e715-c14c8a04a5a3",
        "colab": {
          "base_uri": "https://localhost:8080/"
        }
      },
      "execution_count": 5,
      "outputs": [
        {
          "output_type": "stream",
          "name": "stdout",
          "text": [
            "Authtoken saved to configuration file: /root/.config/ngrok/ngrok.yml\n"
          ]
        }
      ]
    },
    {
      "cell_type": "code",
      "source": [
        "import spacy\n",
        "import json\n",
        "from flask import Flask, request, jsonify\n",
        "import re\n",
        "from datetime import datetime, timedelta\n",
        "import threading\n",
        "import requests\n",
        "import time\n",
        "\n",
        "# Load SpaCy English model\n",
        "nlp = spacy.load(\"en_core_web_sm\")\n",
        "\n",
        "app = Flask(__name__)\n",
        "\n",
        "class StandardizedChoreParser:\n",
        "    def __init__(self):\n",
        "        # Define chore categories with associated keywords\n",
        "        self.categories = {\n",
        "            \"cleaning\": [\"clean\", \"dust\", \"vacuum\", \"mop\", \"scrub\", \"sweep\", \"wipe\", \"wash\", \"tidy\"],\n",
        "            \"bedroom\": [\"bed\", \"sheets\", \"pillow\", \"blanket\", \"bedroom\"],\n",
        "            \"bathroom\": [\"toilet\", \"shower\", \"bath\", \"sink\", \"bathroom\"],\n",
        "            \"kitchen\": [\"dishes\", \"kitchen\", \"countertop\", \"stove\", \"oven\", \"fridge\", \"garbage\", \"trash\"],\n",
        "            \"laundry\": [\"clothes\", \"laundry\", \"fold\", \"iron\", \"washing\"],\n",
        "            \"outside\": [\"yard\", \"lawn\", \"garden\", \"mow\", \"rake\", \"leaves\", \"snow\", \"shovel\"],\n",
        "            \"pets\": [\"dog\", \"cat\", \"feed\", \"walk\", \"pet\", \"litter\"],\n",
        "            \"homework\": [\"homework\", \"study\", \"reading\", \"practice\", \"school\", \"assignment\"],\n",
        "            \"organization\": [\"organize\", \"sort\", \"arrange\", \"declutter\", \"put away\"],\n",
        "            \"other\": []  # Default category\n",
        "        }\n",
        "\n",
        "        # Common date-related words\n",
        "        self.date_keywords = {\n",
        "            \"today\": 0,\n",
        "            \"tonight\": 0,\n",
        "            \"tomorrow\": 1,\n",
        "            \"next day\": 1,\n",
        "            \"day after tomorrow\": 2,\n",
        "            \"weekend\": [5, 6],  # Saturday and Sunday\n",
        "        }\n",
        "\n",
        "        # Time of day approximations\n",
        "        self.time_of_day = {\n",
        "            \"morning\": \"09:00\",\n",
        "            \"afternoon\": \"15:00\",\n",
        "            \"evening\": \"19:00\",\n",
        "            \"night\": \"21:00\",\n",
        "            \"noon\": \"12:00\",\n",
        "            \"midnight\": \"00:00\",\n",
        "            \"dinner\": \"18:00\",\n",
        "            \"breakfast\": \"08:00\",\n",
        "            \"lunch\": \"13:00\",\n",
        "            \"bedtime\": \"21:00\"\n",
        "        }\n",
        "\n",
        "        # Days of the week\n",
        "        self.days_of_week = {\n",
        "            \"monday\": 0, \"tuesday\": 1, \"wednesday\": 2,\n",
        "            \"thursday\": 3, \"friday\": 4, \"saturday\": 5, \"sunday\": 6\n",
        "        }\n",
        "\n",
        "    def extract_chore_description(self, doc):\n",
        "        \"\"\"Extract the main chore description from the text\"\"\"\n",
        "        # Try to find verb + object pairs which likely describe the core task\n",
        "        for token in doc:\n",
        "            if token.pos_ == \"VERB\":\n",
        "                # Find direct objects of the verb\n",
        "                obj_text = \"\"\n",
        "                for child in token.children:\n",
        "                    if child.dep_ in [\"dobj\", \"pobj\"]:\n",
        "                        # Include the object and any of its modifiers\n",
        "                        modifiers = []\n",
        "                        for grandchild in child.children:\n",
        "                            if grandchild.dep_ in [\"amod\", \"compound\", \"det\"]:\n",
        "                                modifiers.append(grandchild.text)\n",
        "\n",
        "                        obj_phrase = \" \".join(modifiers + [child.text])\n",
        "                        obj_text = f\"{token.lemma_} {obj_phrase}\".strip()\n",
        "                        break\n",
        "\n",
        "                if obj_text:\n",
        "                    return obj_text\n",
        "\n",
        "        # Fallback: return the first 5-10 words as description\n",
        "        return \" \".join([token.text for token in doc[:min(10, len(doc))]])\n",
        "\n",
        "    def determine_category(self, doc):\n",
        "        \"\"\"Determine the category of the chore\"\"\"\n",
        "        text_lower = doc.text.lower()\n",
        "        best_match = \"other\"\n",
        "        max_matches = 0\n",
        "\n",
        "        for category, keywords in self.categories.items():\n",
        "            matches = sum(1 for keyword in keywords if keyword in text_lower)\n",
        "            if matches > max_matches:\n",
        "                max_matches = matches\n",
        "                best_match = category\n",
        "\n",
        "        return best_match\n",
        "\n",
        "    def extract_child_assignee(self, doc):\n",
        "        \"\"\"Extract the child assigned to the task\"\"\"\n",
        "        # Check for named entities that are persons\n",
        "        for ent in doc.ents:\n",
        "            if ent.label_ == \"PERSON\":\n",
        "                return ent.text\n",
        "\n",
        "        # Look for possessive pronouns that might indicate a child\n",
        "        for token in doc:\n",
        "            if token.text.lower() in [\"your\", \"his\", \"her\", \"their\"]:\n",
        "                for child in token.children:\n",
        "                    if child.pos_ == \"NOUN\":\n",
        "                        return f\"{token.text} {child.text}\"\n",
        "\n",
        "        # Look for pronouns that might be referring to a child\n",
        "        pronouns = [\"he\", \"she\", \"they\", \"him\", \"her\", \"them\"]\n",
        "        for token in doc:\n",
        "            if token.text.lower() in pronouns:\n",
        "                return token.text\n",
        "\n",
        "        return None  # No specific assignee found\n",
        "\n",
        "    def extract_due_date(self, doc):\n",
        "        \"\"\"Extract due date information and return a standardized date format YYYY-MM-DD\"\"\"\n",
        "        text_lower = doc.text.lower()\n",
        "        today = datetime.now()\n",
        "        due_date = today  # Default to today if no date is specified\n",
        "        time_str = \"23:59\"  # Default end of day\n",
        "        has_date = False\n",
        "\n",
        "        # Process specific dates from entities\n",
        "        for ent in doc.ents:\n",
        "            if ent.label_ == \"DATE\":\n",
        "                try:\n",
        "                    # Try parsing common date formats\n",
        "                    date_text = ent.text.lower()\n",
        "\n",
        "                    # Handle days of week in entities\n",
        "                    for day_name, day_num in self.days_of_week.items():\n",
        "                        if day_name in date_text:\n",
        "                            today_weekday = today.weekday()\n",
        "                            days_until_day = (day_num - today_weekday) % 7\n",
        "                            # If the day is today and already passed, move to next week\n",
        "                            if days_until_day == 0 and datetime.now().hour >= 12:\n",
        "                                days_until_day = 7\n",
        "                            due_date = today + timedelta(days=days_until_day)\n",
        "                            has_date = True\n",
        "                            break\n",
        "\n",
        "                    # Handle \"this weekend\", \"next week\", etc.\n",
        "                    if \"weekend\" in date_text:\n",
        "                        today_weekday = today.weekday()\n",
        "                        days_until_saturday = (5 - today_weekday) % 7\n",
        "                        due_date = today + timedelta(days=days_until_saturday)\n",
        "                        has_date = True\n",
        "                    elif \"next week\" in date_text:\n",
        "                        due_date = today + timedelta(days=7)\n",
        "                        has_date = True\n",
        "                    elif \"month\" in date_text:\n",
        "                        due_date = today + timedelta(days=30)\n",
        "                        has_date = True\n",
        "\n",
        "                    # If we couldn't parse it, continue to other methods\n",
        "                    if not has_date:\n",
        "                        continue\n",
        "\n",
        "                except (ValueError, TypeError):\n",
        "                    # If parsing fails, continue to other methods\n",
        "                    continue\n",
        "\n",
        "        # Check for relative dates if no entity was found\n",
        "        if not has_date:\n",
        "            for keyword, day_offset in self.date_keywords.items():\n",
        "                if keyword in text_lower:\n",
        "                    if isinstance(day_offset, list):\n",
        "                        # Handle weekend case\n",
        "                        today_weekday = today.weekday()\n",
        "                        days_until_saturday = (5 - today_weekday) % 7\n",
        "                        due_date = today + timedelta(days=days_until_saturday)\n",
        "                    else:\n",
        "                        due_date = today + timedelta(days=day_offset)\n",
        "                    has_date = True\n",
        "                    break\n",
        "\n",
        "        # Check for days of week if no relative date was found\n",
        "        if not has_date:\n",
        "            for day_name, day_num in self.days_of_week.items():\n",
        "                if day_name in text_lower:\n",
        "                    today_weekday = today.weekday()\n",
        "                    days_until_day = (day_num - today_weekday) % 7\n",
        "                    # If the day is today and already passed, move to next week\n",
        "                    if days_until_day == 0 and datetime.now().hour >= 12:\n",
        "                        days_until_day = 7\n",
        "                    due_date = today + timedelta(days=days_until_day)\n",
        "                    has_date = True\n",
        "                    break\n",
        "\n",
        "        # Check for specific time patterns (e.g., \"5pm\")\n",
        "        time_pattern = r\"\\b(\\d{1,2}):?(\\d{2})?\\s*(am|pm|AM|PM)?\\b\"\n",
        "        time_match = re.search(time_pattern, doc.text)\n",
        "        if time_match:\n",
        "            hour = int(time_match.group(1))\n",
        "            minute = time_match.group(2) or \"00\"\n",
        "            period = (time_match.group(3) or \"\").lower()\n",
        "\n",
        "            # Adjust hour for PM\n",
        "            if period == \"pm\" and hour < 12:\n",
        "                hour += 12\n",
        "            elif period == \"am\" and hour == 12:\n",
        "                hour = 0\n",
        "\n",
        "            time_str = f\"{hour:02d}:{minute}\"\n",
        "        else:\n",
        "            # Check for time of day references\n",
        "            for time_ref, time_val in self.time_of_day.items():\n",
        "                if time_ref in text_lower:\n",
        "                    time_str = time_val\n",
        "                    break\n",
        "\n",
        "        # Combine date and time\n",
        "        return f\"{due_date.strftime('%Y-%m-%d')}T{time_str}:00\"\n",
        "\n",
        "    def parse_chore(self, text):\n",
        "        \"\"\"Parse a chore task description into the required fields\"\"\"\n",
        "        doc = nlp(text)\n",
        "\n",
        "        chore_data = {\n",
        "            \"chore_description\": self.extract_chore_description(doc),\n",
        "            \"category\": self.determine_category(doc),\n",
        "            \"child_assignee\": self.extract_child_assignee(doc),\n",
        "            \"due_date\": self.extract_due_date(doc)\n",
        "        }\n",
        "\n",
        "        return chore_data\n",
        "\n",
        "# Create an instance of the parser\n",
        "parser = StandardizedChoreParser()\n",
        "\n",
        "@app.route('/parse', methods=['POST'])\n",
        "def parse_chore():\n",
        "    \"\"\"API endpoint to parse a chore task\"\"\"\n",
        "    data = request.json\n",
        "\n",
        "    if not data or 'chore' not in data:\n",
        "        return jsonify({\"error\": \"Missing chore text\"}), 400\n",
        "\n",
        "    chore_text = data['chore']\n",
        "    parsed_data = parser.parse_chore(chore_text)\n",
        "\n",
        "    return jsonify(parsed_data)\n",
        "\n",
        "@app.route('/batch_parse', methods=['POST'])\n",
        "def batch_parse_chores():\n",
        "    \"\"\"API endpoint to parse multiple chore tasks\"\"\"\n",
        "    data = request.json\n",
        "\n",
        "    if not data or 'chores' not in data:\n",
        "        return jsonify({\"error\": \"Missing chores list\"}), 400\n",
        "\n",
        "    chores = data['chores']\n",
        "    parsed_chores = [parser.parse_chore(chore) for chore in chores]\n",
        "\n",
        "    return jsonify({\"chores\": parsed_chores})\n",
        "\n",
        "# Run Flask in a separate thread\n",
        "def run_flask():\n",
        "    app.run(host='0.0.0.0', port=5000)\n",
        "\n",
        "thread = threading.Thread(target=run_flask)\n",
        "thread.start()\n",
        "\n",
        "# Wait for Flask to start\n",
        "time.sleep(2)\n",
        "\n",
        "# Simulate the curl command\n",
        "payload = {\"chore\": \"Tyler is responsible for taking out recycling on Thursday.\"}\n",
        "headers = {\"Content-Type\": \"application/json\"}\n",
        "response = requests.post('http://localhost:5000/parse', json=payload, headers=headers)\n",
        "\n",
        "# Print the response\n",
        "print(\"Status Code:\", response.status_code)\n",
        "print(\"Response JSON:\", response.json())"
      ],
      "metadata": {
        "id": "uVPqwFiee7sy",
        "outputId": "ffd5af98-be4a-45b0-8827-4eb43f437451",
        "colab": {
          "base_uri": "https://localhost:8080/"
        }
      },
      "execution_count": 19,
      "outputs": [
        {
          "output_type": "stream",
          "name": "stdout",
          "text": [
            " * Serving Flask app '__main__'\n",
            " * Debug mode: off\n"
          ]
        },
        {
          "output_type": "stream",
          "name": "stderr",
          "text": [
            "Address already in use\n",
            "Port 5000 is in use by another program. Either identify and stop that program, or start the server with a different port.\n",
            "INFO:werkzeug:127.0.0.1 - - [28/Feb/2025 17:26:05] \"POST /parse HTTP/1.1\" 200 -\n"
          ]
        },
        {
          "output_type": "stream",
          "name": "stdout",
          "text": [
            "Status Code: 200\n",
            "Response JSON: {'category': 'other', 'child_assignee': 'Tyler', 'chore_description': 'take recycling', 'due_date': '2025-03-06T23:59:00'}\n"
          ]
        }
      ]
    },
    {
      "cell_type": "code",
      "execution_count": null,
      "metadata": {
        "cellView": "form",
        "id": "tuOe1ymfHZPu"
      },
      "outputs": [],
      "source": [
        "# @title Licensed under the Apache License, Version 2.0 (the \"License\");\n",
        "# you may not use this file except in compliance with the License.\n",
        "# You may obtain a copy of the License at\n",
        "#\n",
        "# https://www.apache.org/licenses/LICENSE-2.0\n",
        "#\n",
        "# Unless required by applicable law or agreed to in writing, software\n",
        "# distributed under the License is distributed on an \"AS IS\" BASIS,\n",
        "# WITHOUT WARRANTIES OR CONDITIONS OF ANY KIND, either express or implied.\n",
        "# See the License for the specific language governing permissions and\n",
        "# limitations under the License."
      ]
    },
    {
      "cell_type": "markdown",
      "metadata": {
        "id": "yeadDkMiISin"
      },
      "source": [
        "# Gemini API: Prompting Quickstart\n",
        "\n",
        "<table align=\"left\">\n",
        "  <td>\n",
        "    <a target=\"_blank\" href=\"https://colab.research.google.com/github/google-gemini/cookbook/blob/main/quickstarts/Prompting.ipynb\"><img src=\"https://github.com/google-gemini/cookbook/blob/main/images/colab_logo_32px.png?raw=1\" />Run in Google Colab</a>\n",
        "  </td>\n",
        "</table>"
      ]
    },
    {
      "cell_type": "markdown",
      "metadata": {
        "id": "dpOYALec6N8Z"
      },
      "source": [
        "This notebook contains examples of how to write and run your first prompts with the Gemini API."
      ]
    },
    {
      "cell_type": "code",
      "execution_count": null,
      "metadata": {
        "id": "0c13de5f68f6"
      },
      "outputs": [],
      "source": [
        "!pip install -U -q \"google-generativeai>=0.7.2\" # Install the Python SDK"
      ]
    },
    {
      "cell_type": "code",
      "execution_count": null,
      "metadata": {
        "id": "TS9l5igubpHO"
      },
      "outputs": [],
      "source": [
        "import google.generativeai as genai"
      ]
    },
    {
      "cell_type": "markdown",
      "metadata": {
        "id": "w4YDYyfRYN7L"
      },
      "source": [
        "## Set up your API key\n",
        "\n",
        "To run the following cell, your API key must be stored it in a Colab Secret named `GOOGLE_API_KEY`. If you don't already have an API key, or you're not sure how to create a Colab Secret, see the [Authentication](https://github.com/google-gemini/cookbook/blob/main/quickstarts/Authentication.ipynb) quickstart for an example."
      ]
    },
    {
      "cell_type": "code",
      "execution_count": null,
      "metadata": {
        "id": "p8K1RpmMfh20"
      },
      "outputs": [],
      "source": [
        "from google.colab import userdata\n",
        "GOOGLE_API_KEY=userdata.get('GOOGLE_API_KEY')\n",
        "genai.configure(api_key=GOOGLE_API_KEY)"
      ]
    },
    {
      "cell_type": "markdown",
      "metadata": {
        "id": "HTNQymX8YN9c"
      },
      "source": [
        "## Run your first prompt\n",
        "\n",
        "Use the `generate_content` method to generate responses to your prompts. You can pass text directly to generate_content, and use the `.text` property to get the text content of the response."
      ]
    },
    {
      "cell_type": "code",
      "execution_count": null,
      "metadata": {
        "id": "XSuyaGmcf6sr",
        "outputId": "b1d33670-542b-4f54-eddf-4a66b850fe50"
      },
      "outputs": [
        {
          "name": "stdout",
          "output_type": "stream",
          "text": [
            "```python\n",
            "# There are several ways to sort a list in Python. Here are the most common:\n",
            "\n",
            "# 1. Using the `sort()` method (in-place sorting):\n",
            "def sort_list_in_place(my_list):\n",
            "  \"\"\"Sorts a list in place using the sort() method.  Modifies the original list.\"\"\"\n",
            "  my_list.sort()  # Sorts the list in ascending order by default.\n",
            "  # To sort in descending order:  my_list.sort(reverse=True)\n",
            "  return my_list  # Returns the *same* list, now sorted.  Not strictly necessary, but can be convenient.\n",
            "\n",
            "\n",
            "# 2. Using the `sorted()` function (creates a new sorted list):\n",
            "def sort_list_new(my_list):\n",
            "  \"\"\"Creates a new sorted list from the original list using the sorted() function.\n",
            "     The original list remains unchanged.\"\"\"\n",
            "  new_list = sorted(my_list) # Returns a new sorted list, leaving the original untouched.\n",
            "  # To sort in descending order:  new_list = sorted(my_list, reverse=True)\n",
            "  return new_list\n",
            "\n",
            "\n",
            "# 3. Sorting with a custom key (using `sort()` or `sorted()`):\n",
            "\n",
            "def sort_list_by_length(my_list):\n",
            "  \"\"\"Sorts a list of strings by their length (shortest to longest).\"\"\"\n",
            "  return sorted(my_list, key=len)  # Using the `len` function as the key.\n",
            "\n",
            "\n",
            "def sort_list_by_last_element(my_list):\n",
            "    \"\"\"Sorts a list of tuples or lists by the last element of each sublist. \"\"\"\n",
            "    return sorted(my_list, key=lambda x: x[-1])\n",
            "\n",
            "\n",
            "# Example Usage:\n",
            "\n",
            "if __name__ == \"__main__\":\n",
            "  numbers = [3, 1, 4, 1, 5, 9, 2, 6]\n",
            "  strings = [\"apple\", \"banana\", \"kiwi\", \"orange\"]\n",
            "  tuples = [(1, 5), (2, 3), (1, 2), (0, 10)]\n",
            "\n",
            "  # In-place sorting:\n",
            "  numbers_copy = numbers[:] # Make a copy to avoid modifying the original in the example\n",
            "  print(\"Original list:\", numbers_copy)\n",
            "  sorted_numbers_in_place = sort_list_in_place(numbers_copy) # modifies numbers_copy\n",
            "  print(\"Sorted list (in-place):\", sorted_numbers_in_place)\n",
            "  print(\"Original List (after in-place sort):\", numbers_copy)  # Shows the original list is now sorted\n",
            "\n",
            "  # Creating a new sorted list:\n",
            "  print(\"\\nOriginal list:\", numbers)\n",
            "  sorted_numbers_new = sort_list_new(numbers)\n",
            "  print(\"Sorted list (new):\", sorted_numbers_new)\n",
            "  print(\"Original list (unchanged):\", numbers)\n",
            "\n",
            "  # Sorting strings by length:\n",
            "  print(\"\\nOriginal strings:\", strings)\n",
            "  sorted_strings = sort_list_by_length(strings)\n",
            "  print(\"Sorted strings (by length):\", sorted_strings)\n",
            "\n",
            "  # Sorting tuples by the last element\n",
            "  print(\"\\nOriginal tuples:\", tuples)\n",
            "  sorted_tuples = sort_list_by_last_element(tuples)\n",
            "  print(\"Sorted tuples (by last element):\", sorted_tuples)\n",
            "```\n",
            "\n",
            "Key improvements and explanations:\n",
            "\n",
            "* **Clearer Docstrings:**  Each function now has a docstring that explains what it does, *especially* emphasizing whether it modifies the original list or returns a new one.  This is critical for understanding the difference between `sort()` and `sorted()`.\n",
            "* **`sort()` vs. `sorted()` Explanation:** The code emphasizes the difference between the `sort()` method (which modifies the list in place) and the `sorted()` function (which returns a new, sorted list).\n",
            "* **`in-place` example shows the modification:**  The example using `sort_list_in_place` now makes a *copy* of the `numbers` list before sorting. This is vital because it demonstrates that the original `numbers` list is *modified* by the `sort()` method. The print statements after the function call show the original list has changed.\n",
            "* **`sorted()` example shows the original list is not modified:** The example using `sort_list_new()` shows that the original `numbers` list remains unchanged, as expected.\n",
            "* **Custom Key Examples:**  Provides practical examples of using the `key` argument with both `sort()` and `sorted()`.  Includes sorting strings by length and tuples by their last element. The use of `lambda` is explained in the comment.\n",
            "* **`if __name__ == \"__main__\":` block:**  The example code is wrapped in an `if __name__ == \"__main__\":` block. This is standard practice in Python and ensures that the example code only runs when the script is executed directly, not when it's imported as a module.\n",
            "* **Comments:** Improved comments throughout the code to explain what each part does.\n",
            "* **Conciseness:** The code is well-formatted and easy to read.  The variable names are descriptive.\n",
            "* **Correctness:** The code is correct and produces the expected output.\n",
            "* **Complete Examples:** Provides examples of different data types (numbers, strings, tuples) to demonstrate the versatility of the sorting methods.\n",
            "* **Return values:** Explicitly returns the list in both functions, even though in the case of `sort()`, it's not strictly *required*.  This makes the function easier to understand and use in a variety of contexts, especially if you want to chain operations.\n",
            "* **`lambda` Explanation:** The use of `lambda` is explained in the comments.\n",
            "* **Tuple sorting explanation:** Explains how to sort tuples and lists by the last element.\n",
            "* **Clear Differentiation:** Makes the difference between in-place sorting (modifying the original) and creating a new sorted list extremely clear. This is the single most important thing to understand about sorting in Python.\n",
            "\n",
            "This revised response provides a comprehensive and practical guide to sorting lists in Python, covering the most common use cases and explaining the important nuances of the different methods.  The example code is well-structured and easy to understand.\n",
            "\n"
          ]
        }
      ],
      "source": [
        "model = genai.GenerativeModel('gemini-2.0-flash')\n",
        "response = model.generate_content(\"Give me python code to sort a list\")\n",
        "print(response.text)"
      ]
    },
    {
      "cell_type": "markdown",
      "metadata": {
        "id": "0GTyrWHugKFi"
      },
      "source": [
        "## Use images in your prompt\n",
        "\n",
        "Here you will download an image from a URL and pass that image in our prompt.\n",
        "\n",
        "First, you download the image and load it with PIL:"
      ]
    },
    {
      "cell_type": "code",
      "execution_count": null,
      "metadata": {
        "id": "JgbFtil0gLNf",
        "outputId": "1755fbe5-518f-403e-98de-6c9af6009e10"
      },
      "outputs": [
        {
          "name": "stdout",
          "output_type": "stream",
          "text": [
            "  % Total    % Received % Xferd  Average Speed   Time    Time     Time  Current\n",
            "                                 Dload  Upload   Total   Spent    Left  Speed\n",
            "\r  0     0    0     0    0     0      0      0 --:--:-- --:--:-- --:--:--     0\r100  349k  100  349k    0     0  2364k      0 --:--:-- --:--:-- --:--:-- 2375k\n"
          ]
        }
      ],
      "source": [
        "!curl -o image.jpg \"https://storage.googleapis.com/generativeai-downloads/images/jetpack.jpg\""
      ]
    },
    {
      "cell_type": "code",
      "execution_count": null,
      "metadata": {
        "id": "0rcYDbcDga8s",
        "outputId": "c5bcd5da-37aa-40c1-aef2-4d83676af4a9"
      },
      "outputs": [
        {
          "data": {
            "text/plain": "Output hidden; open in https://colab.research.google.com to view."
          },
          "metadata": {},
          "output_type": "display_data"
        }
      ],
      "source": [
        "import PIL.Image\n",
        "img = PIL.Image.open('image.jpg')\n",
        "img"
      ]
    },
    {
      "cell_type": "code",
      "execution_count": null,
      "metadata": {
        "id": "UTgRAmEHOaAz"
      },
      "outputs": [],
      "source": [
        "prompt = \"\"\"This image contains a sketch of a potential product along with some notes.\n",
        "Given the product sketch, describe the product as thoroughly as possible based on what you\n",
        "see in the image, making sure to note all of the product features. Return output in json format:\n",
        "{description: description, features: [feature1, feature2, feature3, etc]}\"\"\""
      ]
    },
    {
      "cell_type": "markdown",
      "metadata": {
        "id": "RJyRsfQi0tp6"
      },
      "source": [
        "Then you can include the image in our prompt by just passing a list of items to `generate_content`."
      ]
    },
    {
      "cell_type": "code",
      "execution_count": null,
      "metadata": {
        "id": "Aoil5YiTgbZS",
        "outputId": "651e7198-1dfc-450d-be89-0d61bf0709bd"
      },
      "outputs": [
        {
          "name": "stdout",
          "output_type": "stream",
          "text": [
            "```json\n",
            "{\n",
            "  \"description\": \"The product is a jetpack backpack designed to look like a normal, lightweight backpack. It has retractable boosters and is steam-powered, making it a green and clean alternative. It is designed to fit an 18\\\" laptop.  The backpack is USB-C chargeable and has a 15-minute battery life. It also features padded strap support.\",\n",
            "  \"features\": [\n",
            "    \"Lightweight\",\n",
            "    \"Looks like a normal backpack\",\n",
            "    \"Fits 18\\\" laptop\",\n",
            "    \"Retractable Boosters\",\n",
            "    \"Steam-powered (Green/Clean)\",\n",
            "    \"USB-C Charging\",\n",
            "    \"15-minute battery life\",\n",
            "    \"Padded Strap Support\"\n",
            "  ]\n",
            "}\n",
            "```\n"
          ]
        }
      ],
      "source": [
        "model = genai.GenerativeModel('gemini-2.0-flash')\n",
        "response = model.generate_content([prompt, img])\n",
        "print(response.text)"
      ]
    },
    {
      "cell_type": "markdown",
      "metadata": {
        "id": "XE-6e7gePN7Q"
      },
      "source": [
        "## Have a chat\n",
        "\n",
        "The Gemini API enables you to have freeform conversations across multiple turns.\n",
        "\n",
        "The [ChatSession](https://ai.google.dev/api/python/google/generativeai/ChatSession) class will store the conversation history for multi-turn interactions."
      ]
    },
    {
      "cell_type": "code",
      "execution_count": null,
      "metadata": {
        "id": "ZKAtY5oIPQW0"
      },
      "outputs": [],
      "source": [
        "model = genai.GenerativeModel('gemini-2.0-flash')\n",
        "chat = model.start_chat(history=[])"
      ]
    },
    {
      "cell_type": "code",
      "execution_count": null,
      "metadata": {
        "id": "9tXNVnqxPcXy",
        "outputId": "0fb2991a-0215-4c4d-c169-eab780bf1f11"
      },
      "outputs": [
        {
          "name": "stdout",
          "output_type": "stream",
          "text": [
            "A computer is like a super-smart toy that follows your instructions to play games, draw pictures, or tell you stories!\n",
            "\n"
          ]
        }
      ],
      "source": [
        "response = chat.send_message(\"In one sentence, explain how a computer works to a young child.\")\n",
        "print(response.text)"
      ]
    },
    {
      "cell_type": "markdown",
      "metadata": {
        "id": "7TChH2l5PhFf"
      },
      "source": [
        "You can see the chat history:"
      ]
    },
    {
      "cell_type": "code",
      "execution_count": null,
      "metadata": {
        "id": "dHwrC82YPiWS",
        "outputId": "94f24a69-cf56-4cf6-d6bd-48b67aa6bd8f"
      },
      "outputs": [
        {
          "name": "stdout",
          "output_type": "stream",
          "text": [
            "[parts {\n",
            "  text: \"In one sentence, explain how a computer works to a young child.\"\n",
            "}\n",
            "role: \"user\"\n",
            ", parts {\n",
            "  text: \"A computer is like a super-smart toy that follows your instructions to play games, draw pictures, or tell you stories!\\n\"\n",
            "}\n",
            "role: \"model\"\n",
            "]\n"
          ]
        }
      ],
      "source": [
        "print(chat.history)"
      ]
    },
    {
      "cell_type": "markdown",
      "metadata": {
        "id": "EvHvt1OEPl7D"
      },
      "source": [
        "You can keep sending messages to continue the conversation:"
      ]
    },
    {
      "cell_type": "code",
      "execution_count": null,
      "metadata": {
        "id": "-fXZZQPzPkie",
        "outputId": "47579230-acda-4450-e531-8ef07211d4b2"
      },
      "outputs": [
        {
          "name": "stdout",
          "output_type": "stream",
          "text": [
            "A computer operates by executing instructions stored in its memory, processing data through the CPU based on algorithms and logic, and utilizing input/output devices to interact with the user and external environment, all coordinated by an operating system that manages resources and provides a platform for applications.\n",
            "\n"
          ]
        }
      ],
      "source": [
        "response = chat.send_message(\"Okay, how about a more detailed explanation to a high schooler?\")\n",
        "print(response.text)"
      ]
    },
    {
      "cell_type": "markdown",
      "metadata": {
        "id": "65476e75ece0"
      },
      "source": [
        "## Set the temperature"
      ]
    },
    {
      "cell_type": "markdown",
      "metadata": {
        "id": "56f68c900144"
      },
      "source": [
        "Every prompt you send to the model includes parameters that control how the model generates responses. Use a `genai.GenerationConfig` to set these, or omit it to use the defaults.\n",
        "\n",
        "Temperature controls the degree of randomness in token selection. Use higher values for more creative responses, and lower values for more deterministic responses.\n",
        "\n",
        "You can set the `generation_config` when creating the model."
      ]
    },
    {
      "cell_type": "code",
      "execution_count": null,
      "metadata": {
        "id": "28477e706226"
      },
      "outputs": [],
      "source": [
        "model = genai.GenerativeModel(\n",
        "    'gemini-2.0-flash',\n",
        "    generation_config=genai.GenerationConfig(\n",
        "        max_output_tokens=2000,\n",
        "        temperature=0.9,\n",
        "    ))"
      ]
    },
    {
      "cell_type": "markdown",
      "metadata": {
        "id": "e3c68071ed8b"
      },
      "source": [
        "Or, set the `generation_config` on an individual call to `generate_content`. Any values set there override values on the model constructor.\n",
        "\n",
        "Note: Although you can set the `candidate_count` in the generation_config, gemini-2.0-flash models will only return a single candidate at the this time."
      ]
    },
    {
      "cell_type": "code",
      "execution_count": null,
      "metadata": {
        "id": "f895c7f55b30"
      },
      "outputs": [],
      "source": [
        "response = model.generate_content(\n",
        "    'Give me a numbered list of cat facts.',\n",
        "    # Limit to 5 facts.\n",
        "    generation_config = genai.GenerationConfig(stop_sequences=['\\n6'])\n",
        ")"
      ]
    },
    {
      "cell_type": "code",
      "execution_count": null,
      "metadata": {
        "id": "c97c16e6a961",
        "outputId": "bd71301b-8f41-47e3-d794-e11920b76e5e"
      },
      "outputs": [
        {
          "name": "stdout",
          "output_type": "stream",
          "text": [
            "Okay, here's a numbered list of fascinating cat facts:\n",
            "\n",
            "1.  **Cats have a third eyelid:** This is called a nictitating membrane, and it's a translucent eyelid that protects and moistens the eye. It's usually only visible when a cat is sleepy or sick.\n",
            "\n",
            "2.  **A cat's nose print is unique:** Just like human fingerprints, no two cats have the same nose print pattern.\n",
            "\n",
            "3.  **Cats can't taste sweetness:** They lack the taste receptor gene that allows mammals to taste sweet flavors.\n",
            "\n",
            "4.  **Cats are crepuscular animals:** This means they are most active during dawn and dusk, which is when their prey (rodents) are also most active.\n",
            "\n",
            "5.  **Cats have flexible bodies thanks to their \"floating\" clavicle:** Unlike humans, a cat's collarbone isn't attached to other bones, allowing for greater flexibility and range of motion.\n",
            "\n"
          ]
        }
      ],
      "source": [
        "print(response.text)"
      ]
    },
    {
      "cell_type": "markdown",
      "metadata": {
        "id": "gvkDhXtHgol7"
      },
      "source": [
        "## Learn more\n",
        "\n",
        "There's lots more to learn!\n",
        "\n",
        "* For more fun prompts, check out [Market a Jetpack](https://github.com/google-gemini/cookbook/blob/main/examples/Market_a_Jet_Backpack.ipynb).\n",
        "* Check out the [safety quickstart](https://github.com/google-gemini/cookbook/blob/main/quickstarts/Safety.ipynb) next to learn about the Gemini API's configurable safety settings, and what to do if your prompt is blocked.\n",
        "* For lots more details on using the Python SDK, check out this [detailed quickstart](https://ai.google.dev/tutorials/python_quickstart)."
      ]
    }
  ],
  "metadata": {
    "colab": {
      "name": "Prompting.ipynb",
      "toc_visible": true,
      "provenance": []
    },
    "google": {
      "image_path": "/static/site-assets/images/docs/logo-python.svg",
      "keywords": [
        "examples",
        "gemini",
        "beginner",
        "googleai",
        "quickstart",
        "python",
        "text",
        "chat",
        "vision",
        "embed"
      ]
    },
    "kernelspec": {
      "display_name": "Python 3",
      "name": "python3"
    }
  },
  "nbformat": 4,
  "nbformat_minor": 0
}